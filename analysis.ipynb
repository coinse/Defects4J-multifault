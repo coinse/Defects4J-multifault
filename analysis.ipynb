{
 "cells": [
  {
   "cell_type": "code",
   "execution_count": 1,
   "metadata": {},
   "outputs": [
    {
     "data": {
      "text/html": [
       "<svg  width=\"440\" height=\"55\"><rect x=\"0\" y=\"0\" width=\"55\" height=\"55\" style=\"fill:#66c2a5;stroke-width:2;stroke:rgb(255,255,255)\"/><rect x=\"55\" y=\"0\" width=\"55\" height=\"55\" style=\"fill:#fc8d62;stroke-width:2;stroke:rgb(255,255,255)\"/><rect x=\"110\" y=\"0\" width=\"55\" height=\"55\" style=\"fill:#8da0cb;stroke-width:2;stroke:rgb(255,255,255)\"/><rect x=\"165\" y=\"0\" width=\"55\" height=\"55\" style=\"fill:#e78ac3;stroke-width:2;stroke:rgb(255,255,255)\"/><rect x=\"220\" y=\"0\" width=\"55\" height=\"55\" style=\"fill:#a6d854;stroke-width:2;stroke:rgb(255,255,255)\"/><rect x=\"275\" y=\"0\" width=\"55\" height=\"55\" style=\"fill:#ffd92f;stroke-width:2;stroke:rgb(255,255,255)\"/><rect x=\"330\" y=\"0\" width=\"55\" height=\"55\" style=\"fill:#e5c494;stroke-width:2;stroke:rgb(255,255,255)\"/><rect x=\"385\" y=\"0\" width=\"55\" height=\"55\" style=\"fill:#b3b3b3;stroke-width:2;stroke:rgb(255,255,255)\"/></svg>"
      ],
      "text/plain": [
       "[(0.4, 0.7607843137254902, 0.6470588235294118),\n",
       " (0.9882352941176471, 0.5529411764705883, 0.3843137254901961),\n",
       " (0.5529411764705883, 0.6274509803921569, 0.796078431372549),\n",
       " (0.9058823529411765, 0.5411764705882353, 0.7647058823529411),\n",
       " (0.6509803921568628, 0.8470588235294118, 0.32941176470588235),\n",
       " (1.0, 0.8509803921568627, 0.1843137254901961),\n",
       " (0.8980392156862745, 0.7686274509803922, 0.5803921568627451),\n",
       " (0.7019607843137254, 0.7019607843137254, 0.7019607843137254)]"
      ]
     },
     "execution_count": 1,
     "metadata": {},
     "output_type": "execute_result"
    }
   ],
   "source": [
    "import os\n",
    "import pandas as pd\n",
    "import seaborn as sns\n",
    "import matplotlib.pyplot as plt\n",
    "from datetime import datetime, date\n",
    "from create_dataset import get_multi_faults\n",
    "\n",
    "projects = ['Lang', 'Chart', 'Time', 'Closure', 'Math']\n",
    "SEARCH_RESULTS_DIR = './fault_data/multi'\n",
    "DATE_DIR = \"./resources/metadata\"\n",
    "sns.color_palette('Set2')"
   ]
  },
  {
   "cell_type": "code",
   "execution_count": 2,
   "metadata": {},
   "outputs": [
    {
     "data": {
      "text/html": [
       "<div>\n",
       "<style scoped>\n",
       "    .dataframe tbody tr th:only-of-type {\n",
       "        vertical-align: middle;\n",
       "    }\n",
       "\n",
       "    .dataframe tbody tr th {\n",
       "        vertical-align: top;\n",
       "    }\n",
       "\n",
       "    .dataframe thead th {\n",
       "        text-align: right;\n",
       "    }\n",
       "</style>\n",
       "<table border=\"1\" class=\"dataframe\">\n",
       "  <thead>\n",
       "    <tr style=\"text-align: right;\">\n",
       "      <th></th>\n",
       "      <th>project</th>\n",
       "      <th>fault</th>\n",
       "      <th>buggy_date</th>\n",
       "      <th>fixed_date</th>\n",
       "    </tr>\n",
       "  </thead>\n",
       "  <tbody>\n",
       "    <tr>\n",
       "      <th>0</th>\n",
       "      <td>Lang</td>\n",
       "      <td>1</td>\n",
       "      <td>2013-07-07</td>\n",
       "      <td>2013-07-26</td>\n",
       "    </tr>\n",
       "    <tr>\n",
       "      <th>1</th>\n",
       "      <td>Lang</td>\n",
       "      <td>3</td>\n",
       "      <td>2013-05-16</td>\n",
       "      <td>2013-05-19</td>\n",
       "    </tr>\n",
       "    <tr>\n",
       "      <th>2</th>\n",
       "      <td>Lang</td>\n",
       "      <td>4</td>\n",
       "      <td>2013-04-22</td>\n",
       "      <td>2013-04-23</td>\n",
       "    </tr>\n",
       "    <tr>\n",
       "      <th>3</th>\n",
       "      <td>Lang</td>\n",
       "      <td>5</td>\n",
       "      <td>2012-12-17</td>\n",
       "      <td>2013-01-03</td>\n",
       "    </tr>\n",
       "    <tr>\n",
       "      <th>4</th>\n",
       "      <td>Lang</td>\n",
       "      <td>6</td>\n",
       "      <td>2012-11-13</td>\n",
       "      <td>2012-11-20</td>\n",
       "    </tr>\n",
       "    <tr>\n",
       "      <th>...</th>\n",
       "      <td>...</td>\n",
       "      <td>...</td>\n",
       "      <td>...</td>\n",
       "      <td>...</td>\n",
       "    </tr>\n",
       "    <tr>\n",
       "      <th>391</th>\n",
       "      <td>Math</td>\n",
       "      <td>102</td>\n",
       "      <td>2008-01-07</td>\n",
       "      <td>2008-01-09</td>\n",
       "    </tr>\n",
       "    <tr>\n",
       "      <th>392</th>\n",
       "      <td>Math</td>\n",
       "      <td>103</td>\n",
       "      <td>2007-07-16</td>\n",
       "      <td>2007-07-22</td>\n",
       "    </tr>\n",
       "    <tr>\n",
       "      <th>393</th>\n",
       "      <td>Math</td>\n",
       "      <td>104</td>\n",
       "      <td>2007-06-14</td>\n",
       "      <td>2007-06-20</td>\n",
       "    </tr>\n",
       "    <tr>\n",
       "      <th>394</th>\n",
       "      <td>Math</td>\n",
       "      <td>105</td>\n",
       "      <td>2006-07-06</td>\n",
       "      <td>2006-07-06</td>\n",
       "    </tr>\n",
       "    <tr>\n",
       "      <th>395</th>\n",
       "      <td>Math</td>\n",
       "      <td>106</td>\n",
       "      <td>2006-06-05</td>\n",
       "      <td>2006-06-05</td>\n",
       "    </tr>\n",
       "  </tbody>\n",
       "</table>\n",
       "<p>396 rows × 4 columns</p>\n",
       "</div>"
      ],
      "text/plain": [
       "    project fault  buggy_date  fixed_date\n",
       "0      Lang     1  2013-07-07  2013-07-26\n",
       "1      Lang     3  2013-05-16  2013-05-19\n",
       "2      Lang     4  2013-04-22  2013-04-23\n",
       "3      Lang     5  2012-12-17  2013-01-03\n",
       "4      Lang     6  2012-11-13  2012-11-20\n",
       "..      ...   ...         ...         ...\n",
       "391    Math   102  2008-01-07  2008-01-09\n",
       "392    Math   103  2007-07-16  2007-07-22\n",
       "393    Math   104  2007-06-14  2007-06-20\n",
       "394    Math   105  2006-07-06  2006-07-06\n",
       "395    Math   106  2006-06-05  2006-06-05\n",
       "\n",
       "[396 rows x 4 columns]"
      ]
     },
     "execution_count": 2,
     "metadata": {},
     "output_type": "execute_result"
    }
   ],
   "source": [
    "def to_date(s):\n",
    "    return date.fromisoformat(s.split()[0])\n",
    "    \n",
    "date_df = pd.DataFrame(columns=['project', 'fault', 'buggy_date', 'fixed_date'])\n",
    "for project in projects:\n",
    "    with open(os.path.join(DATE_DIR, project), 'r') as f:\n",
    "        for l in f:\n",
    "            fault, buggy_date, fixed_date = l.strip().split(',')\n",
    "            date_df = date_df.append(\n",
    "                pd.Series(\n",
    "                    [project, int(fault), to_date(buggy_date), to_date(fixed_date)],\n",
    "                    index=date_df.columns\n",
    "                ), ignore_index=True\n",
    "            )\n",
    "\n",
    "date_df"
   ]
  },
  {
   "cell_type": "code",
   "execution_count": 3,
   "metadata": {},
   "outputs": [],
   "source": [
    "def get_exist_df(fault_dir):\n",
    "    exist_df = pd.DataFrame(columns=['project', 'version', 'fault'])\n",
    "    multi_faults = {\n",
    "        project: get_multi_faults(fault_dir, project) for project in projects\n",
    "    }\n",
    "    fault_ids = {project: set() for project in projects}\n",
    "\n",
    "    # multi-fault-check\n",
    "    for dirname in os.listdir(fault_dir):\n",
    "        project, fault, base = tuple(dirname.split('-'))\n",
    "        exists = fault in multi_faults[project][base] if base in multi_faults[project] else False\n",
    "        exist_df = exist_df.append({\n",
    "            'project': project, \n",
    "            'version': int(base),\n",
    "            'fault': int(fault),\n",
    "            'exists': exists\n",
    "        }, ignore_index=True)\n",
    "        fault_ids[project].add(int(base))\n",
    "        fault_ids[project].add(int(fault))\n",
    "        \n",
    "    for project in fault_ids:\n",
    "        for fault in fault_ids[project]:\n",
    "            exist_df = exist_df.append({\n",
    "                'project': project, \n",
    "                'version': fault,\n",
    "                'fault': fault,\n",
    "                'exists': True\n",
    "            }, ignore_index=True)\n",
    "\n",
    "    exist_df.exists = exist_df.exists.astype(bool)\n",
    "    return exist_df\n",
    "\n",
    "def get_containing_faults(exist_df, project, version):\n",
    "    return exist_df[\n",
    "        exist_df.exists\n",
    "        & (exist_df.project == project)\n",
    "        & (exist_df.version == version)\n",
    "    ].sort_values(by='fault').fault.values\n",
    "\n",
    "def get_num_containing_faults(exist_df):\n",
    "    return exist_df[exist_df.exists].groupby(['project', 'version']).fault.count().sort_values()\n",
    "\n",
    "def plot_hist(exist_df, figsize=None, savepath=None, color_palette='Set2'):\n",
    "    num_faults = get_num_containing_faults(exist_df)\n",
    "\n",
    "    all_versions = exist_df[['project', 'version']].drop_duplicates().shape[0]\n",
    "    multiple_fault_versions = (num_faults > 1).sum()\n",
    "    print(\"**** # version with multiple bugs:\", multiple_fault_versions, all_versions, f\"{round(multiple_fault_versions/all_versions * 100, 2)}%\")\n",
    "    print(\"**** # version with >= 10 bugs:\", (num_faults >= 10).sum())\n",
    "    print(\"**** # version with >= 20 bugs:\", (num_faults >= 20).sum())\n",
    "\n",
    "    num_faults.name = 'exists'\n",
    "    num_faults = num_faults.to_frame().sort_values(by='project')\n",
    "    if figsize:\n",
    "        plt.figure(figsize=figsize)\n",
    "    else:\n",
    "        plt.figure()\n",
    "    sns.histplot(data=num_faults, x='exists',\n",
    "        hue='project', multiple='stack',\n",
    "        discrete=True, zorder=10,\n",
    "        palette=sns.color_palette(color_palette)[:len(projects)])\n",
    "    plt.xlabel('# found bugs in each buggy version')\n",
    "    plt.ylabel('# buggy versions')\n",
    "    plt.xticks(range(1, num_faults['exists'].max()+1))\n",
    "    plt.grid(axis='y')\n",
    "    plt.tick_params(\n",
    "        axis='x',          # changes apply to the x-axis\n",
    "        which='both',      # both major and minor ticks are affected\n",
    "        bottom=True,      # ticks along the bottom edge are off\n",
    "        top=False,         # ticks along the top edge are off\n",
    "        labelbottom=True)\n",
    "    if savepath:\n",
    "        plt.savefig(savepath)\n",
    "    plt.show()\n",
    "    \n",
    "def get_lifespan_df(exist_df):\n",
    "    df = exist_df[exist_df.exists].copy()\n",
    "    df = df.groupby(['project', 'fault']).version.max()\n",
    "    df.name = 'first_available_version'\n",
    "    df = df.to_frame().reset_index()\n",
    "    df = df.merge(date_df[['project', 'fault', 'fixed_date']], left_on=['project', 'fault'], right_on=['project', 'fault'])\n",
    "    df = df.merge(date_df[['project', 'fault', 'buggy_date']], left_on=['project', 'first_available_version'], right_on=['project', 'fault'], suffixes=('', '_f'))\n",
    "    df['lifespan_in_versions'] = df.first_available_version - df.fault\n",
    "    df['lifespan_in_days'] = (df.fixed_date - df.buggy_date).apply(lambda d: d.days)\n",
    "    return df[['project', 'fault', 'lifespan_in_versions', 'lifespan_in_days']]\n",
    "\n",
    "def plot_sorted_lifespan(lifespan_df, lifespan_colname='lifespan_in_days', savepath=None):\n",
    "    lifespan_df['ID'] = lifespan_df['project'] + '-' + lifespan_df['fault'].astype(str) + 'b'\n",
    "    lifespan_df = lifespan_df.sort_values(by=lifespan_colname)\n",
    "\n",
    "    print('sorted liftspan')\n",
    "    version_has_longest_lifespan = lifespan_df.sort_values(by=lifespan_colname, ascending=False).iloc[0]\n",
    "    print(\"****\")\n",
    "    print(version_has_longest_lifespan)\n",
    "    print(\"*****Average lifespan (std)\", lifespan_df[lifespan_colname].mean().round(0), lifespan_df[lifespan_colname].std().round(0))\n",
    "\n",
    "    plt.figure(figsize=(6, 4))\n",
    "    sns.barplot(data=lifespan_df, x='ID', y=lifespan_colname, zorder=10)\n",
    "    plt.grid(axis='y')\n",
    "    plt.tick_params(\n",
    "        axis='x',          # changes apply to the x-axis\n",
    "        which='both',      # both major and minor ticks are affected\n",
    "        bottom=False,      # ticks along the bottom edge are off\n",
    "        top=False,         # ticks along the top edge are off\n",
    "        labelbottom=False)\n",
    "    plt.xlabel(f'{len(lifespan_df.ID.unique())} bugs in Defects4J')\n",
    "    plt.ylabel(lifespan_colname.replace('_', ' '))\n",
    "    if savepath is not None:\n",
    "        plt.savefig(savepath)\n",
    "    plt.show()\n"
   ]
  },
  {
   "cell_type": "code",
   "execution_count": 4,
   "metadata": {
    "tags": []
   },
   "outputs": [
    {
     "name": "stdout",
     "output_type": "stream",
     "text": [
      "2907\n",
      "2620\n"
     ]
    }
   ],
   "source": [
    "# our search\n",
    "exist_df = get_exist_df(SEARCH_RESULTS_DIR)\n",
    "print(exist_df[exist_df.version != exist_df.fault].shape[0])\n",
    "print(exist_df[exist_df.version != exist_df.fault].exists.sum())"
   ]
  },
  {
   "cell_type": "code",
   "execution_count": 5,
   "metadata": {},
   "outputs": [
    {
     "data": {
      "text/plain": [
       "project  version\n",
       "Chart    1           1\n",
       "Math     36          1\n",
       "Lang     1           1\n",
       "Closure  1           1\n",
       "Lang     40          1\n",
       "                    ..\n",
       "Closure  94         23\n",
       "         95         23\n",
       "         91         23\n",
       "         89         23\n",
       "         90         24\n",
       "Name: fault, Length: 326, dtype: int64"
      ]
     },
     "execution_count": 5,
     "metadata": {},
     "output_type": "execute_result"
    }
   ],
   "source": [
    "# the number of bugs in each buggy version\n",
    "get_num_containing_faults(exist_df)"
   ]
  },
  {
   "cell_type": "code",
   "execution_count": 6,
   "metadata": {},
   "outputs": [
    {
     "name": "stdout",
     "output_type": "stream",
     "text": [
      "**** # version with multiple bugs: 311 326 95.4%\n",
      "**** # version with >= 10 bugs: 126\n",
      "**** # version with >= 20 bugs: 22\n"
     ]
    },
    {
     "data": {
      "image/png": "[encoded data removed]",
      "text/plain": [
       "<Figure size 432x288 with 1 Axes>"
      ]
     },
     "metadata": {
      "needs_background": "light"
     },
     "output_type": "display_data"
    }
   ],
   "source": [
    "plot_hist(exist_df, figsize=(6, 4), savepath='./figures/hist.pdf')"
   ]
  },
  {
   "cell_type": "code",
   "execution_count": 7,
   "metadata": {},
   "outputs": [
    {
     "data": {
      "text/plain": [
       "array([11, 24, 25, 42, 43, 44, 48, 51, 58, 62, 69, 71, 72, 73, 77, 78, 81,\n",
       "       82, 84, 85, 87, 88, 89, 90], dtype=object)"
      ]
     },
     "execution_count": 7,
     "metadata": {},
     "output_type": "execute_result"
    }
   ],
   "source": [
    "get_containing_faults(exist_df, 'Closure', 90)"
   ]
  },
  {
   "cell_type": "code",
   "execution_count": 8,
   "metadata": {},
   "outputs": [
    {
     "data": {
      "text/html": [
       "<div>\n",
       "<style scoped>\n",
       "    .dataframe tbody tr th:only-of-type {\n",
       "        vertical-align: middle;\n",
       "    }\n",
       "\n",
       "    .dataframe tbody tr th {\n",
       "        vertical-align: top;\n",
       "    }\n",
       "\n",
       "    .dataframe thead th {\n",
       "        text-align: right;\n",
       "    }\n",
       "</style>\n",
       "<table border=\"1\" class=\"dataframe\">\n",
       "  <thead>\n",
       "    <tr style=\"text-align: right;\">\n",
       "      <th></th>\n",
       "      <th>project</th>\n",
       "      <th>fault</th>\n",
       "      <th>lifespan_in_versions</th>\n",
       "      <th>lifespan_in_days</th>\n",
       "    </tr>\n",
       "  </thead>\n",
       "  <tbody>\n",
       "    <tr>\n",
       "      <th>162</th>\n",
       "      <td>Lang</td>\n",
       "      <td>28</td>\n",
       "      <td>0</td>\n",
       "      <td>0</td>\n",
       "    </tr>\n",
       "    <tr>\n",
       "      <th>161</th>\n",
       "      <td>Lang</td>\n",
       "      <td>25</td>\n",
       "      <td>0</td>\n",
       "      <td>0</td>\n",
       "    </tr>\n",
       "    <tr>\n",
       "      <th>163</th>\n",
       "      <td>Lang</td>\n",
       "      <td>29</td>\n",
       "      <td>0</td>\n",
       "      <td>0</td>\n",
       "    </tr>\n",
       "    <tr>\n",
       "      <th>166</th>\n",
       "      <td>Lang</td>\n",
       "      <td>33</td>\n",
       "      <td>0</td>\n",
       "      <td>0</td>\n",
       "    </tr>\n",
       "    <tr>\n",
       "      <th>167</th>\n",
       "      <td>Lang</td>\n",
       "      <td>34</td>\n",
       "      <td>0</td>\n",
       "      <td>0</td>\n",
       "    </tr>\n",
       "    <tr>\n",
       "      <th>...</th>\n",
       "      <td>...</td>\n",
       "      <td>...</td>\n",
       "      <td>...</td>\n",
       "      <td>...</td>\n",
       "    </tr>\n",
       "    <tr>\n",
       "      <th>285</th>\n",
       "      <td>Math</td>\n",
       "      <td>91</td>\n",
       "      <td>15</td>\n",
       "      <td>1028</td>\n",
       "    </tr>\n",
       "    <tr>\n",
       "      <th>284</th>\n",
       "      <td>Math</td>\n",
       "      <td>90</td>\n",
       "      <td>16</td>\n",
       "      <td>1047</td>\n",
       "    </tr>\n",
       "    <tr>\n",
       "      <th>304</th>\n",
       "      <td>Time</td>\n",
       "      <td>5</td>\n",
       "      <td>22</td>\n",
       "      <td>1101</td>\n",
       "    </tr>\n",
       "    <tr>\n",
       "      <th>303</th>\n",
       "      <td>Time</td>\n",
       "      <td>4</td>\n",
       "      <td>23</td>\n",
       "      <td>1127</td>\n",
       "    </tr>\n",
       "    <tr>\n",
       "      <th>169</th>\n",
       "      <td>Lang</td>\n",
       "      <td>41</td>\n",
       "      <td>24</td>\n",
       "      <td>1187</td>\n",
       "    </tr>\n",
       "  </tbody>\n",
       "</table>\n",
       "<p>326 rows × 4 columns</p>\n",
       "</div>"
      ],
      "text/plain": [
       "    project fault lifespan_in_versions  lifespan_in_days\n",
       "162    Lang    28                    0                 0\n",
       "161    Lang    25                    0                 0\n",
       "163    Lang    29                    0                 0\n",
       "166    Lang    33                    0                 0\n",
       "167    Lang    34                    0                 0\n",
       "..      ...   ...                  ...               ...\n",
       "285    Math    91                   15              1028\n",
       "284    Math    90                   16              1047\n",
       "304    Time     5                   22              1101\n",
       "303    Time     4                   23              1127\n",
       "169    Lang    41                   24              1187\n",
       "\n",
       "[326 rows x 4 columns]"
      ]
     },
     "execution_count": 8,
     "metadata": {},
     "output_type": "execute_result"
    }
   ],
   "source": [
    "lifespan_df = get_lifespan_df(exist_df)\n",
    "lifespan_df.sort_values(by='lifespan_in_days')"
   ]
  },
  {
   "cell_type": "code",
   "execution_count": 9,
   "metadata": {},
   "outputs": [
    {
     "name": "stdout",
     "output_type": "stream",
     "text": [
      "sorted liftspan\n",
      "****\n",
      "project                     Lang\n",
      "fault                         41\n",
      "lifespan_in_versions          24\n",
      "lifespan_in_days            1187\n",
      "ID                      Lang-41b\n",
      "Name: 169, dtype: object\n",
      "*****Average lifespan (std) 155.0 246.0\n"
     ]
    },
    {
     "data": {
      "image/png": "[encoded data removed]",
      "text/plain": [
       "<Figure size 432x288 with 1 Axes>"
      ]
     },
     "metadata": {
      "needs_background": "light"
     },
     "output_type": "display_data"
    }
   ],
   "source": [
    "plot_sorted_lifespan(lifespan_df, savepath='figures/lifespan.pdf')"
   ]
  },
  {
   "cell_type": "code",
   "execution_count": null,
   "metadata": {},
   "outputs": [],
   "source": []
  }
 ],
 "metadata": {
  "kernelspec": {
   "display_name": "Python 3.9.1 64-bit ('multifault': pyenv)",
   "language": "python",
   "name": "python391jvsc74a57bd0dd5691c80b8d6b30832e61c309c04e13a71d59fdde024d32a5eb5378b1572587"
  },
  "language_info": {
   "codemirror_mode": {
    "name": "ipython",
    "version": 3
   },
   "file_extension": ".py",
   "mimetype": "text/x-python",
   "name": "python",
   "nbconvert_exporter": "python",
   "pygments_lexer": "ipython3",
   "version": "3.9.1"
  },
  "metadata": {
   "interpreter": {
    "hash": "1744e15e44eda82d25baf590547b0df804d765bdaef508fd9dbbf845f50ec32c"
   }
  }
 },
 "nbformat": 4,
 "nbformat_minor": 2
}
